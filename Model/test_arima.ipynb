{
 "cells": [
  {
   "cell_type": "code",
   "execution_count": null,
   "id": "d71c976a",
   "metadata": {},
   "outputs": [],
   "source": [
    "# 1️⃣ Import các thư viện cần thiết\n",
    "import pandas as pd\n",
    "import numpy as np\n",
    "import matplotlib.pyplot as plt\n",
    "import statsmodels.api as sm\n",
    "from statsmodels.tsa.stattools import adfuller\n",
    "from statsmodels.tsa.arima.model import ARIMA"
   ]
  },
  {
   "cell_type": "code",
   "execution_count": null,
   "id": "31539a67",
   "metadata": {},
   "outputs": [],
   "source": [
    "\n",
    "# 2️⃣ Tải dữ liệu CSV\n",
    "file_path = \"world_population.csv\" \n",
    "df = pd.read_csv(file_path)"
   ]
  },
  {
   "cell_type": "code",
   "execution_count": null,
   "id": "6dd575ba",
   "metadata": {},
   "outputs": [],
   "source": [
    "# Kiểm tra dữ liệu\n",
    "print(df.head())"
   ]
  },
  {
   "cell_type": "code",
   "execution_count": null,
   "id": "b6e1fd22",
   "metadata": {},
   "outputs": [],
   "source": [
    "# 3️⃣ Tiền xử lý dữ liệu: Chọn dữ liệu dân số của một quốc gia cụ thể\n",
    "country = \"Vietnam\"  # Có thể thay đổi tùy ý\n",
    "df_country = df[df[\"Country\"] == country][[\"Year\", \"Population\"]]"
   ]
  }
 ],
 "metadata": {
  "language_info": {
   "name": "python"
  }
 },
 "nbformat": 4,
 "nbformat_minor": 5
}
